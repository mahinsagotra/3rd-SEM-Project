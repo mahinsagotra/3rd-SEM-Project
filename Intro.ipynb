{
  "nbformat": 4,
  "nbformat_minor": 0,
  "metadata": {
    "colab": {
      "name": "Intro.ipynb",
      "provenance": [],
      "authorship_tag": "ABX9TyMQDb0IHWkdXEHi69z34dKq",
      "include_colab_link": true
    },
    "kernelspec": {
      "name": "python3",
      "display_name": "Python 3"
    },
    "language_info": {
      "name": "python"
    },
    "accelerator": "GPU"
  },
  "cells": [
    {
      "cell_type": "markdown",
      "metadata": {
        "id": "view-in-github",
        "colab_type": "text"
      },
      "source": [
        "<a href=\"https://colab.research.google.com/github/mahinsagotra/3rd-SEM-Project/blob/master/Intro.ipynb\" target=\"_parent\"><img src=\"https://colab.research.google.com/assets/colab-badge.svg\" alt=\"Open In Colab\"/></a>"
      ]
    },
    {
      "cell_type": "code",
      "metadata": {
        "colab": {
          "base_uri": "https://localhost:8080/"
        },
        "id": "P1airNGpVBQJ",
        "outputId": "3fe31647-2201-4d49-bb67-35c4df5532df"
      },
      "source": [
        "print('Hello')"
      ],
      "execution_count": null,
      "outputs": [
        {
          "output_type": "stream",
          "name": "stdout",
          "text": [
            "Hello\n"
          ]
        }
      ]
    },
    {
      "cell_type": "code",
      "metadata": {
        "id": "MZvdshKJVdGk",
        "colab": {
          "base_uri": "https://localhost:8080/"
        },
        "outputId": "a6f44ebb-4b5b-47d1-9aac-d42b4a730ac9"
      },
      "source": [
        "import numpy as np\n",
        "\n",
        "a = np.array(['Hello','World'])\n",
        "print(a)\n",
        "a = np.append(a,'i')\n",
        "print('Current array: {}'.format(a))\n",
        "print('Printing each Element')\n",
        "for i in a:\n",
        "  print(i)\n",
        "print('\\nPrinting each element and their index')\n",
        "for i,e in enumerate(a):\n",
        "  print('Index: {}, was: {}'.format(i,e))"
      ],
      "execution_count": null,
      "outputs": [
        {
          "output_type": "stream",
          "name": "stdout",
          "text": [
            "['Hello' 'World']\n",
            "Current array: ['Hello' 'World' 'i']\n",
            "Printing each Element\n",
            "Hello\n",
            "World\n",
            "i\n",
            "\n",
            "Printing each element and their index\n",
            "Index: 0, was: Hello\n",
            "Index: 1, was: World\n",
            "Index: 2, was: i\n"
          ]
        }
      ]
    },
    {
      "cell_type": "code",
      "metadata": {
        "colab": {
          "base_uri": "https://localhost:8080/"
        },
        "id": "QABxPdoUln8W",
        "outputId": "2a900558-d596-44c8-95d0-d71be295d021"
      },
      "source": [
        "print('\\nShowing some basic math on arrays')\n",
        "b = np.array([0,1,4,3,2])\n",
        "print('Max: {}'.format(np.max(b)))\n",
        "print('Average: {}'.format(np.average(b)))\n",
        "print('Max Index: {}'.format(np.argmax(b)))"
      ],
      "execution_count": null,
      "outputs": [
        {
          "output_type": "stream",
          "name": "stdout",
          "text": [
            "\n",
            "Showing some basic math on arrays\n",
            "Max: 4\n",
            "Average: 2.0\n",
            "Max Index: 2\n"
          ]
        }
      ]
    },
    {
      "cell_type": "code",
      "metadata": {
        "colab": {
          "base_uri": "https://localhost:8080/"
        },
        "id": "pGxBmwKJmVDY",
        "outputId": "46def049-8cd7-464a-8aea-f6b2f16ee271"
      },
      "source": [
        "print('\\nYou can print the type of anything')\n",
        "print('Type of b: {}, type of b[0]: {}'.format(type(b), type(a[0])))"
      ],
      "execution_count": null,
      "outputs": [
        {
          "output_type": "stream",
          "name": "stdout",
          "text": [
            "\n",
            "You can print the type of anything\n",
            "Type of b: <class 'numpy.ndarray'>, type of b[0]: <class 'numpy.str_'>\n"
          ]
        }
      ]
    },
    {
      "cell_type": "code",
      "metadata": {
        "colab": {
          "base_uri": "https://localhost:8080/"
        },
        "id": "LV-MfJl4mstv",
        "outputId": "c3aaf13b-cf47-41dc-eed9-9f443925de0e"
      },
      "source": [
        "print('\\nUse numpy to create a [3,3] dimension array with random number')\n",
        "c = np.random.rand(3,3)\n",
        "print(c)"
      ],
      "execution_count": null,
      "outputs": [
        {
          "output_type": "stream",
          "name": "stdout",
          "text": [
            "\n",
            "Use numpy to create a [3,3] dimension array with random number\n",
            "[[0.47432852 0.05174104 0.74674538]\n",
            " [0.41178452 0.43312349 0.47670336]\n",
            " [0.35784562 0.27914656 0.97589775]]\n"
          ]
        }
      ]
    },
    {
      "cell_type": "code",
      "metadata": {
        "colab": {
          "base_uri": "https://localhost:8080/"
        },
        "id": "ArmO9VWonHkW",
        "outputId": "04a37dce-9d2f-4a5b-ccfa-444c70a35138"
      },
      "source": [
        "print('\\nYou can print the dimension of arrays')\n",
        "print('Shape of a: {}'.format(a.shape))\n",
        "print('Shape of b: {}'.format(b.shape))\n",
        "print('Shape of c: {}'.format(c.shape))"
      ],
      "execution_count": null,
      "outputs": [
        {
          "output_type": "stream",
          "name": "stdout",
          "text": [
            "\n",
            "You can print the dimension of arrays\n",
            "Shape of a: (3,)\n",
            "Shape of b: (5,)\n",
            "Shape of c: (3, 3)\n"
          ]
        }
      ]
    },
    {
      "cell_type": "code",
      "metadata": {
        "colab": {
          "base_uri": "https://localhost:8080/"
        },
        "id": "7eicVwBGne1a",
        "outputId": "32156c50-4cef-4380-c4b5-2d82ca493491"
      },
      "source": [
        "!pip install numpy"
      ],
      "execution_count": null,
      "outputs": [
        {
          "output_type": "stream",
          "name": "stdout",
          "text": [
            "Requirement already satisfied: numpy in /usr/local/lib/python3.7/dist-packages (1.19.5)\n"
          ]
        }
      ]
    },
    {
      "cell_type": "code",
      "metadata": {
        "colab": {
          "base_uri": "https://localhost:8080/"
        },
        "id": "7chpiHNfnifn",
        "outputId": "98380514-baf4-4ab5-e2e7-20a6dfaa92a2"
      },
      "source": [
        "!ls -l\n",
        "!pwd"
      ],
      "execution_count": null,
      "outputs": [
        {
          "output_type": "stream",
          "name": "stdout",
          "text": [
            "total 4\n",
            "drwxr-xr-x 1 root root 4096 Oct  8 13:45 sample_data\n",
            "/content\n"
          ]
        }
      ]
    }
  ]
}